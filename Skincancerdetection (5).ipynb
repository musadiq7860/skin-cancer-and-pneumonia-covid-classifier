{
 "cells": [
  {
   "cell_type": "markdown",
   "metadata": {
    "colab_type": "text",
    "id": "3DR-eO17geWu"
   },
   "source": [
    "# Convolutional Neural Network"
   ]
  },
  {
   "cell_type": "markdown",
   "metadata": {
    "colab_type": "text",
    "id": "EMefrVPCg-60"
   },
   "source": [
    "### Importing the libraries"
   ]
  },
  {
   "cell_type": "code",
   "execution_count": 1,
   "metadata": {
    "colab": {},
    "colab_type": "code",
    "id": "sCV30xyVhFbE"
   },
   "outputs": [],
   "source": [
    "import tensorflow as tf\n",
    "from tensorflow.keras.preprocessing.image import ImageDataGenerator"
   ]
  },
  {
   "cell_type": "code",
   "execution_count": 2,
   "metadata": {
    "colab": {},
    "colab_type": "code",
    "id": "FIleuCAjoFD8"
   },
   "outputs": [
    {
     "data": {
      "text/plain": [
       "'2.20.0'"
      ]
     },
     "execution_count": 2,
     "metadata": {},
     "output_type": "execute_result"
    }
   ],
   "source": [
    "tf.__version__"
   ]
  },
  {
   "cell_type": "markdown",
   "metadata": {
    "colab_type": "text",
    "id": "oxQxCBWyoGPE"
   },
   "source": [
    "## Part 1 - Data Preprocessing"
   ]
  },
  {
   "cell_type": "markdown",
   "metadata": {
    "colab_type": "text",
    "id": "MvE-heJNo3GG"
   },
   "source": [
    "### Preprocessing the Training set"
   ]
  },
  {
   "cell_type": "code",
   "execution_count": 3,
   "metadata": {
    "colab": {},
    "colab_type": "code",
    "id": "0koUcJMJpEBD"
   },
   "outputs": [
    {
     "name": "stdout",
     "output_type": "stream",
     "text": [
      "Found 2637 images belonging to 2 classes.\n"
     ]
    }
   ],
   "source": [
    "train_datagen = ImageDataGenerator(rescale = 1./255,\n",
    "                                   shear_range = 0.2,\n",
    "                                   zoom_range = 0.2,\n",
    "                                   horizontal_flip = True)\n",
    "training_set = train_datagen.flow_from_directory('data/train',\n",
    "                                                 target_size = (224, 224),\n",
    "                                                 batch_size = 32,\n",
    "                                                 class_mode = 'binary')"
   ]
  },
  {
   "cell_type": "markdown",
   "metadata": {
    "colab_type": "text",
    "id": "mrCMmGw9pHys"
   },
   "source": [
    "### Preprocessing the Test set"
   ]
  },
  {
   "cell_type": "code",
   "execution_count": 4,
   "metadata": {
    "colab": {},
    "colab_type": "code",
    "id": "SH4WzfOhpKc3"
   },
   "outputs": [
    {
     "name": "stdout",
     "output_type": "stream",
     "text": [
      "Found 660 images belonging to 2 classes.\n"
     ]
    }
   ],
   "source": [
    "test_datagen = ImageDataGenerator(rescale = 1./255)\n",
    "test_set = test_datagen.flow_from_directory('data/test',\n",
    "                                            target_size = (224, 224),\n",
    "                                            batch_size = 32,\n",
    "                                            class_mode = 'binary')"
   ]
  },
  {
   "cell_type": "code",
   "execution_count": 5,
   "metadata": {},
   "outputs": [
    {
     "name": "stderr",
     "output_type": "stream",
     "text": [
      "C:\\Users\\HT\\AppData\\Local\\Programs\\Python\\Python313\\Lib\\site-packages\\keras\\src\\trainers\\data_adapters\\py_dataset_adapter.py:121: UserWarning: Your `PyDataset` class should call `super().__init__(**kwargs)` in its constructor. `**kwargs` can include `workers`, `use_multiprocessing`, `max_queue_size`. Do not pass these arguments to `fit()`, as they will be ignored.\n",
      "  self._warn_if_super_not_called()\n"
     ]
    },
    {
     "name": "stdout",
     "output_type": "stream",
     "text": [
      "Epoch 1/30\n",
      "\u001b[1m83/83\u001b[0m \u001b[32m━━━━━━━━━━━━━━━━━━━━\u001b[0m\u001b[37m\u001b[0m \u001b[1m0s\u001b[0m 4s/step - accuracy: 0.6689 - loss: 0.5794"
     ]
    },
    {
     "name": "stderr",
     "output_type": "stream",
     "text": [
      "C:\\Users\\HT\\AppData\\Local\\Programs\\Python\\Python313\\Lib\\site-packages\\keras\\src\\trainers\\data_adapters\\py_dataset_adapter.py:121: UserWarning: Your `PyDataset` class should call `super().__init__(**kwargs)` in its constructor. `**kwargs` can include `workers`, `use_multiprocessing`, `max_queue_size`. Do not pass these arguments to `fit()`, as they will be ignored.\n",
      "  self._warn_if_super_not_called()\n"
     ]
    },
    {
     "name": "stdout",
     "output_type": "stream",
     "text": [
      "\u001b[1m83/83\u001b[0m \u001b[32m━━━━━━━━━━━━━━━━━━━━\u001b[0m\u001b[37m\u001b[0m \u001b[1m424s\u001b[0m 5s/step - accuracy: 0.7440 - loss: 0.5097 - val_accuracy: 0.6364 - val_loss: 0.6881 - learning_rate: 1.0000e-05\n",
      "Epoch 2/30\n",
      "\u001b[1m83/83\u001b[0m \u001b[32m━━━━━━━━━━━━━━━━━━━━\u001b[0m\u001b[37m\u001b[0m \u001b[1m437s\u001b[0m 5s/step - accuracy: 0.7979 - loss: 0.4218 - val_accuracy: 0.5576 - val_loss: 0.6616 - learning_rate: 1.0000e-05\n",
      "Epoch 3/30\n",
      "\u001b[1m83/83\u001b[0m \u001b[32m━━━━━━━━━━━━━━━━━━━━\u001b[0m\u001b[37m\u001b[0m \u001b[1m414s\u001b[0m 5s/step - accuracy: 0.8142 - loss: 0.4068 - val_accuracy: 0.5636 - val_loss: 0.8408 - learning_rate: 1.0000e-05\n",
      "Epoch 4/30\n",
      "\u001b[1m83/83\u001b[0m \u001b[32m━━━━━━━━━━━━━━━━━━━━\u001b[0m\u001b[37m\u001b[0m \u001b[1m423s\u001b[0m 5s/step - accuracy: 0.8229 - loss: 0.3698 - val_accuracy: 0.5652 - val_loss: 1.6277 - learning_rate: 1.0000e-05\n",
      "Epoch 5/30\n",
      "\u001b[1m83/83\u001b[0m \u001b[32m━━━━━━━━━━━━━━━━━━━━\u001b[0m\u001b[37m\u001b[0m \u001b[1m402s\u001b[0m 5s/step - accuracy: 0.8199 - loss: 0.3799 - val_accuracy: 0.6955 - val_loss: 0.6912 - learning_rate: 1.0000e-05\n",
      "Epoch 6/30\n",
      "\u001b[1m83/83\u001b[0m \u001b[32m━━━━━━━━━━━━━━━━━━━━\u001b[0m\u001b[37m\u001b[0m \u001b[1m404s\u001b[0m 5s/step - accuracy: 0.8248 - loss: 0.3685 - val_accuracy: 0.7424 - val_loss: 0.4906 - learning_rate: 2.0000e-06\n",
      "Epoch 7/30\n",
      "\u001b[1m83/83\u001b[0m \u001b[32m━━━━━━━━━━━━━━━━━━━━\u001b[0m\u001b[37m\u001b[0m \u001b[1m415s\u001b[0m 5s/step - accuracy: 0.8438 - loss: 0.3504 - val_accuracy: 0.6500 - val_loss: 0.8490 - learning_rate: 2.0000e-06\n",
      "Epoch 8/30\n",
      "\u001b[1m83/83\u001b[0m \u001b[32m━━━━━━━━━━━━━━━━━━━━\u001b[0m\u001b[37m\u001b[0m \u001b[1m398s\u001b[0m 5s/step - accuracy: 0.8369 - loss: 0.3496 - val_accuracy: 0.8273 - val_loss: 0.3736 - learning_rate: 2.0000e-06\n",
      "Epoch 9/30\n",
      "\u001b[1m83/83\u001b[0m \u001b[32m━━━━━━━━━━━━━━━━━━━━\u001b[0m\u001b[37m\u001b[0m \u001b[1m415s\u001b[0m 5s/step - accuracy: 0.8476 - loss: 0.3381 - val_accuracy: 0.8424 - val_loss: 0.3559 - learning_rate: 2.0000e-06\n",
      "Epoch 10/30\n",
      "\u001b[1m83/83\u001b[0m \u001b[32m━━━━━━━━━━━━━━━━━━━━\u001b[0m\u001b[37m\u001b[0m \u001b[1m435s\u001b[0m 5s/step - accuracy: 0.8426 - loss: 0.3339 - val_accuracy: 0.8379 - val_loss: 0.3572 - learning_rate: 2.0000e-06\n",
      "Epoch 11/30\n",
      "\u001b[1m83/83\u001b[0m \u001b[32m━━━━━━━━━━━━━━━━━━━━\u001b[0m\u001b[37m\u001b[0m \u001b[1m408s\u001b[0m 5s/step - accuracy: 0.8369 - loss: 0.3429 - val_accuracy: 0.7409 - val_loss: 0.5831 - learning_rate: 2.0000e-06\n",
      "Epoch 12/30\n",
      "\u001b[1m83/83\u001b[0m \u001b[32m━━━━━━━━━━━━━━━━━━━━\u001b[0m\u001b[37m\u001b[0m \u001b[1m422s\u001b[0m 5s/step - accuracy: 0.8407 - loss: 0.3357 - val_accuracy: 0.8379 - val_loss: 0.3510 - learning_rate: 2.0000e-06\n",
      "Epoch 13/30\n",
      "\u001b[1m83/83\u001b[0m \u001b[32m━━━━━━━━━━━━━━━━━━━━\u001b[0m\u001b[37m\u001b[0m \u001b[1m459s\u001b[0m 6s/step - accuracy: 0.8464 - loss: 0.3324 - val_accuracy: 0.8333 - val_loss: 0.3556 - learning_rate: 2.0000e-06\n",
      "Epoch 14/30\n",
      "\u001b[1m83/83\u001b[0m \u001b[32m━━━━━━━━━━━━━━━━━━━━\u001b[0m\u001b[37m\u001b[0m \u001b[1m486s\u001b[0m 6s/step - accuracy: 0.8419 - loss: 0.3358 - val_accuracy: 0.8106 - val_loss: 0.3787 - learning_rate: 2.0000e-06\n",
      "Epoch 15/30\n",
      "\u001b[1m83/83\u001b[0m \u001b[32m━━━━━━━━━━━━━━━━━━━━\u001b[0m\u001b[37m\u001b[0m \u001b[1m465s\u001b[0m 6s/step - accuracy: 0.8570 - loss: 0.3197 - val_accuracy: 0.8258 - val_loss: 0.3639 - learning_rate: 2.0000e-06\n",
      "Epoch 16/30\n",
      "\u001b[1m83/83\u001b[0m \u001b[32m━━━━━━━━━━━━━━━━━━━━\u001b[0m\u001b[37m\u001b[0m \u001b[1m479s\u001b[0m 6s/step - accuracy: 0.8517 - loss: 0.3081 - val_accuracy: 0.8318 - val_loss: 0.3524 - learning_rate: 4.0000e-07\n",
      "Epoch 17/30\n",
      "\u001b[1m83/83\u001b[0m \u001b[32m━━━━━━━━━━━━━━━━━━━━\u001b[0m\u001b[37m\u001b[0m \u001b[1m568s\u001b[0m 7s/step - accuracy: 0.8506 - loss: 0.3196 - val_accuracy: 0.8409 - val_loss: 0.3498 - learning_rate: 4.0000e-07\n",
      "Epoch 18/30\n",
      "\u001b[1m83/83\u001b[0m \u001b[32m━━━━━━━━━━━━━━━━━━━━\u001b[0m\u001b[37m\u001b[0m \u001b[1m510s\u001b[0m 6s/step - accuracy: 0.8574 - loss: 0.3041 - val_accuracy: 0.8288 - val_loss: 0.3461 - learning_rate: 4.0000e-07\n",
      "Epoch 19/30\n",
      "\u001b[1m83/83\u001b[0m \u001b[32m━━━━━━━━━━━━━━━━━━━━\u001b[0m\u001b[37m\u001b[0m \u001b[1m433s\u001b[0m 5s/step - accuracy: 0.8574 - loss: 0.3086 - val_accuracy: 0.8303 - val_loss: 0.3473 - learning_rate: 4.0000e-07\n",
      "Epoch 20/30\n",
      "\u001b[1m83/83\u001b[0m \u001b[32m━━━━━━━━━━━━━━━━━━━━\u001b[0m\u001b[37m\u001b[0m \u001b[1m440s\u001b[0m 5s/step - accuracy: 0.8521 - loss: 0.3122 - val_accuracy: 0.8318 - val_loss: 0.3446 - learning_rate: 4.0000e-07\n",
      "Epoch 21/30\n",
      "\u001b[1m83/83\u001b[0m \u001b[32m━━━━━━━━━━━━━━━━━━━━\u001b[0m\u001b[37m\u001b[0m \u001b[1m406s\u001b[0m 5s/step - accuracy: 0.8551 - loss: 0.3157 - val_accuracy: 0.8348 - val_loss: 0.3501 - learning_rate: 4.0000e-07\n",
      "Epoch 22/30\n",
      "\u001b[1m83/83\u001b[0m \u001b[32m━━━━━━━━━━━━━━━━━━━━\u001b[0m\u001b[37m\u001b[0m \u001b[1m397s\u001b[0m 5s/step - accuracy: 0.8589 - loss: 0.3040 - val_accuracy: 0.8364 - val_loss: 0.3496 - learning_rate: 4.0000e-07\n",
      "Epoch 23/30\n",
      "\u001b[1m83/83\u001b[0m \u001b[32m━━━━━━━━━━━━━━━━━━━━\u001b[0m\u001b[37m\u001b[0m \u001b[1m400s\u001b[0m 5s/step - accuracy: 0.8567 - loss: 0.3105 - val_accuracy: 0.8348 - val_loss: 0.3495 - learning_rate: 4.0000e-07\n",
      "Epoch 24/30\n",
      "\u001b[1m83/83\u001b[0m \u001b[32m━━━━━━━━━━━━━━━━━━━━\u001b[0m\u001b[37m\u001b[0m \u001b[1m391s\u001b[0m 5s/step - accuracy: 0.8570 - loss: 0.3085 - val_accuracy: 0.8333 - val_loss: 0.3451 - learning_rate: 8.0000e-08\n",
      "Epoch 25/30\n",
      "\u001b[1m83/83\u001b[0m \u001b[32m━━━━━━━━━━━━━━━━━━━━\u001b[0m\u001b[37m\u001b[0m \u001b[1m402s\u001b[0m 5s/step - accuracy: 0.8597 - loss: 0.2950 - val_accuracy: 0.8288 - val_loss: 0.3425 - learning_rate: 8.0000e-08\n",
      "Epoch 26/30\n",
      "\u001b[1m83/83\u001b[0m \u001b[32m━━━━━━━━━━━━━━━━━━━━\u001b[0m\u001b[37m\u001b[0m \u001b[1m403s\u001b[0m 5s/step - accuracy: 0.8582 - loss: 0.3104 - val_accuracy: 0.8273 - val_loss: 0.3425 - learning_rate: 8.0000e-08\n",
      "Epoch 27/30\n",
      "\u001b[1m83/83\u001b[0m \u001b[32m━━━━━━━━━━━━━━━━━━━━\u001b[0m\u001b[37m\u001b[0m \u001b[1m393s\u001b[0m 5s/step - accuracy: 0.8646 - loss: 0.2958 - val_accuracy: 0.8288 - val_loss: 0.3422 - learning_rate: 8.0000e-08\n",
      "Epoch 28/30\n",
      "\u001b[1m83/83\u001b[0m \u001b[32m━━━━━━━━━━━━━━━━━━━━\u001b[0m\u001b[37m\u001b[0m \u001b[1m550s\u001b[0m 7s/step - accuracy: 0.8586 - loss: 0.3054 - val_accuracy: 0.8288 - val_loss: 0.3417 - learning_rate: 8.0000e-08\n",
      "Epoch 29/30\n",
      "\u001b[1m83/83\u001b[0m \u001b[32m━━━━━━━━━━━━━━━━━━━━\u001b[0m\u001b[37m\u001b[0m \u001b[1m580s\u001b[0m 7s/step - accuracy: 0.8570 - loss: 0.3033 - val_accuracy: 0.8273 - val_loss: 0.3417 - learning_rate: 8.0000e-08\n",
      "Epoch 30/30\n",
      "\u001b[1m83/83\u001b[0m \u001b[32m━━━━━━━━━━━━━━━━━━━━\u001b[0m\u001b[37m\u001b[0m \u001b[1m17165s\u001b[0m 209s/step - accuracy: 0.8608 - loss: 0.3079 - val_accuracy: 0.8273 - val_loss: 0.3417 - learning_rate: 8.0000e-08\n"
     ]
    }
   ],
   "source": [
    "from tensorflow.keras.applications import ResNet50\n",
    "from tensorflow.keras.models import Model\n",
    "from tensorflow.keras.layers import Dense, Dropout, GlobalAveragePooling2D\n",
    "from tensorflow.keras.optimizers import Adam\n",
    "from tensorflow.keras.callbacks import EarlyStopping, ReduceLROnPlateau\n",
    "\n",
    "base_model = ResNet50(weights='imagenet', include_top=False, input_shape=(224,224,3))\n",
    "for layer in base_model.layers[:-50]:\n",
    "    layer.trainable = False\n",
    "for layer in base_model.layers[-50:]:\n",
    "    layer.trainable = True\n",
    "\n",
    "x = base_model.output\n",
    "x = GlobalAveragePooling2D()(x)\n",
    "x = Dense(256, activation='relu')(x)\n",
    "x = Dropout(0.5)(x)\n",
    "predictions = Dense(1, activation='sigmoid')(x)\n",
    "\n",
    "model = Model(inputs=base_model.input, outputs=predictions)\n",
    "model.compile(optimizer=Adam(learning_rate=1e-5), loss='binary_crossentropy', metrics=['accuracy'])\n",
    "\n",
    "early_stop = EarlyStopping(monitor='val_loss', patience=5, restore_best_weights=True)\n",
    "reduce_lr = ReduceLROnPlateau(monitor='val_loss', factor=0.2, patience=3)\n",
    "\n",
    "history = model.fit(training_set, validation_data=test_set, epochs=30, callbacks=[early_stop, reduce_lr], verbose=1)\n",
    "\n"
   ]
  },
  {
   "cell_type": "code",
   "execution_count": null,
   "metadata": {},
   "outputs": [],
   "source": []
  }
 ],
 "metadata": {
  "colab": {
   "collapsed_sections": [],
   "name": "convolutional_neural_network.ipynb",
   "provenance": [],
   "toc_visible": true
  },
  "kernelspec": {
   "display_name": "Python 3.13 (TF)",
   "language": "python",
   "name": "myenv"
  },
  "language_info": {
   "codemirror_mode": {
    "name": "ipython",
    "version": 3
   },
   "file_extension": ".py",
   "mimetype": "text/x-python",
   "name": "python",
   "nbconvert_exporter": "python",
   "pygments_lexer": "ipython3",
   "version": "3.13.7"
  }
 },
 "nbformat": 4,
 "nbformat_minor": 4
}
